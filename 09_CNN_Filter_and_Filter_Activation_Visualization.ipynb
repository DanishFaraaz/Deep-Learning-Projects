{
  "nbformat": 4,
  "nbformat_minor": 0,
  "metadata": {
    "colab": {
      "provenance": [],
      "gpuType": "T4",
      "authorship_tag": "ABX9TyOMby6PtUS1IIi5mhDV2Ls9",
      "include_colab_link": true
    },
    "kernelspec": {
      "name": "python3",
      "display_name": "Python 3"
    },
    "language_info": {
      "name": "python"
    },
    "accelerator": "GPU"
  },
  "cells": [
    {
      "cell_type": "markdown",
      "metadata": {
        "id": "view-in-github",
        "colab_type": "text"
      },
      "source": [
        "<a href=\"https://colab.research.google.com/github/DanishFaraaz/Deep-Learning-Projects/blob/main/9_CNN_Filter_and_Filter_Activation_Visualization.ipynb\" target=\"_parent\"><img src=\"https://colab.research.google.com/assets/colab-badge.svg\" alt=\"Open In Colab\"/></a>"
      ]
    },
    {
      "cell_type": "code",
      "execution_count": null,
      "metadata": {
        "colab": {
          "base_uri": "https://localhost:8080/"
        },
        "id": "PljQCVrk1foA",
        "outputId": "143403b2-655a-49ca-8a71-a0cdf9c77012"
      },
      "outputs": [
        {
          "output_type": "stream",
          "name": "stdout",
          "text": [
            "Downloading data from https://storage.googleapis.com/tensorflow/tf-keras-datasets/mnist.npz\n",
            "11490434/11490434 [==============================] - 0s 0us/step\n",
            "[name: \"/device:CPU:0\"\n",
            "device_type: \"CPU\"\n",
            "memory_limit: 268435456\n",
            "locality {\n",
            "}\n",
            "incarnation: 5982136207481442509\n",
            "xla_global_id: -1\n",
            ", name: \"/device:GPU:0\"\n",
            "device_type: \"GPU\"\n",
            "memory_limit: 14328594432\n",
            "locality {\n",
            "  bus_id: 1\n",
            "  links {\n",
            "  }\n",
            "}\n",
            "incarnation: 17172176387639752723\n",
            "physical_device_desc: \"device: 0, name: Tesla T4, pci bus id: 0000:00:04.0, compute capability: 7.5\"\n",
            "xla_global_id: 416903419\n",
            "]\n"
          ]
        }
      ],
      "source": [
        "from tensorflow.keras.datasets import mnist\n",
        "\n",
        "(x_train, y_train), (x_test, y_test) = mnist.load_data()\n",
        "\n",
        "from tensorflow.python.client import device_lib\n",
        "\n",
        "print(device_lib.list_local_devices())"
      ]
    },
    {
      "cell_type": "code",
      "source": [
        "img_rows = x_train[0].shape[0]\n",
        "img_cols = x_train[0].shape[1]\n",
        "\n",
        "x_train = x_train.reshape(x_train.shape[0], img_rows, img_cols, 1)\n",
        "x_test = x_test.reshape(x_test.shape[0], img_rows, img_cols, 1)\n",
        "\n",
        "input_shape = (img_rows, img_cols, 1)\n",
        "\n",
        "x_train = x_train.astype('float32')\n",
        "x_test = x_test.astype('float32')\n",
        "\n",
        "x_train /= 255.0\n",
        "x_test /= 255.0\n",
        "\n",
        "print('Number of training samples: ', x_train.shape[0])\n",
        "print('Number of testing samples: ', x_test.shape[0])"
      ],
      "metadata": {
        "colab": {
          "base_uri": "https://localhost:8080/"
        },
        "id": "mokqsBp3z8r6",
        "outputId": "0a8b243a-3a14-42cb-af37-c49f976e947c"
      },
      "execution_count": null,
      "outputs": [
        {
          "output_type": "stream",
          "name": "stdout",
          "text": [
            "Number of training samples:  60000\n",
            "Number of testing samples:  10000\n"
          ]
        }
      ]
    },
    {
      "cell_type": "code",
      "source": [
        "from tensorflow.keras.utils import to_categorical\n",
        "\n",
        "y_train = to_categorical(y_train)\n",
        "y_test = to_categorical(y_test)\n",
        "\n",
        "print('Number of classes: ', str(y_test.shape[1]))\n",
        "\n",
        "num_classes = y_test.shape[1]\n",
        "num_pixels = x_train.shape[1] * x_train.shape[2]"
      ],
      "metadata": {
        "colab": {
          "base_uri": "https://localhost:8080/"
        },
        "id": "8jvINK4N0m5H",
        "outputId": "3af89765-908f-426e-b035-b293b9bd1a48"
      },
      "execution_count": null,
      "outputs": [
        {
          "output_type": "stream",
          "name": "stdout",
          "text": [
            "(10000,)\n",
            "Number of classes:  10\n",
            "(10000, 10)\n"
          ]
        }
      ]
    },
    {
      "cell_type": "code",
      "source": [
        "from tensorflow.keras.models import Sequential\n",
        "from tensorflow.keras.layers import Dense, Dropout, Flatten\n",
        "from tensorflow.keras.layers import Conv2D, MaxPooling2D\n",
        "from tensorflow.keras import backend as K\n",
        "from tensorflow.keras.optimizers import SGD\n",
        "\n",
        "model = Sequential()\n",
        "model.add(Conv2D(32, kernel_size=(3, 3), activation='relu', input_shape=input_shape))\n",
        "model.add(Conv2D(64, kernel_size=(3, 3), activation='relu'))\n",
        "model.add(MaxPooling2D(pool_size=(2, 2)))\n",
        "model.add(Flatten())\n",
        "model.add(Dense(128, activation='relu'))\n",
        "model.add(Dense(num_classes, activation='softmax'))\n",
        "\n",
        "model.compile(loss='categorical_crossentropy', optimizer=SGD(0.001), metrics=['accuracy'])\n",
        "print(model.summary())"
      ],
      "metadata": {
        "colab": {
          "base_uri": "https://localhost:8080/"
        },
        "id": "zXPzXxWI2X-2",
        "outputId": "24cc4b69-6c3e-424f-d375-03413ed4554f"
      },
      "execution_count": null,
      "outputs": [
        {
          "output_type": "stream",
          "name": "stdout",
          "text": [
            "Model: \"sequential\"\n",
            "_________________________________________________________________\n",
            " Layer (type)                Output Shape              Param #   \n",
            "=================================================================\n",
            " conv2d (Conv2D)             (None, 26, 26, 32)        320       \n",
            "                                                                 \n",
            " conv2d_1 (Conv2D)           (None, 24, 24, 64)        18496     \n",
            "                                                                 \n",
            " max_pooling2d (MaxPooling2D  (None, 12, 12, 64)       0         \n",
            " )                                                               \n",
            "                                                                 \n",
            " flatten (Flatten)           (None, 9216)              0         \n",
            "                                                                 \n",
            " dense (Dense)               (None, 128)               1179776   \n",
            "                                                                 \n",
            " dense_1 (Dense)             (None, 10)                1290      \n",
            "                                                                 \n",
            "=================================================================\n",
            "Total params: 1,199,882\n",
            "Trainable params: 1,199,882\n",
            "Non-trainable params: 0\n",
            "_________________________________________________________________\n",
            "None\n"
          ]
        }
      ]
    },
    {
      "cell_type": "code",
      "source": [
        "batch_size = 128\n",
        "epochs = 25\n",
        "\n",
        "history = model.fit(x_train, y_train, batch_size=batch_size, epochs=epochs, verbose=1, validation_data=(x_test, y_test))\n",
        "\n",
        "score = model.evaluate(x_test, y_test, verbose=0)\n",
        "print('Test loss: ', score[0])\n",
        "print('Test accuracy: ', score[1])"
      ],
      "metadata": {
        "colab": {
          "base_uri": "https://localhost:8080/"
        },
        "id": "qUyXwvo-341P",
        "outputId": "67ddb404-cba0-4e3f-b144-884123063bd0"
      },
      "execution_count": null,
      "outputs": [
        {
          "output_type": "stream",
          "name": "stdout",
          "text": [
            "Epoch 1/25\n",
            "469/469 [==============================] - 14s 9ms/step - loss: 2.1576 - accuracy: 0.3331 - val_loss: 1.9218 - val_accuracy: 0.6029\n",
            "Epoch 2/25\n",
            "469/469 [==============================] - 3s 7ms/step - loss: 1.3788 - accuracy: 0.7281 - val_loss: 0.8102 - val_accuracy: 0.8211\n",
            "Epoch 3/25\n",
            "469/469 [==============================] - 3s 7ms/step - loss: 0.6186 - accuracy: 0.8461 - val_loss: 0.4708 - val_accuracy: 0.8791\n",
            "Epoch 4/25\n",
            "469/469 [==============================] - 4s 8ms/step - loss: 0.4387 - accuracy: 0.8810 - val_loss: 0.3826 - val_accuracy: 0.8977\n",
            "Epoch 5/25\n",
            "469/469 [==============================] - 4s 8ms/step - loss: 0.3765 - accuracy: 0.8943 - val_loss: 0.3423 - val_accuracy: 0.9066\n",
            "Epoch 6/25\n",
            "469/469 [==============================] - 3s 7ms/step - loss: 0.3430 - accuracy: 0.9018 - val_loss: 0.3161 - val_accuracy: 0.9140\n",
            "Epoch 7/25\n",
            "469/469 [==============================] - 4s 8ms/step - loss: 0.3200 - accuracy: 0.9080 - val_loss: 0.2969 - val_accuracy: 0.9167\n",
            "Epoch 8/25\n",
            "469/469 [==============================] - 4s 8ms/step - loss: 0.3025 - accuracy: 0.9125 - val_loss: 0.2815 - val_accuracy: 0.9200\n",
            "Epoch 9/25\n",
            "469/469 [==============================] - 3s 7ms/step - loss: 0.2878 - accuracy: 0.9168 - val_loss: 0.2692 - val_accuracy: 0.9231\n",
            "Epoch 10/25\n",
            "469/469 [==============================] - 3s 7ms/step - loss: 0.2749 - accuracy: 0.9203 - val_loss: 0.2582 - val_accuracy: 0.9271\n",
            "Epoch 11/25\n",
            "469/469 [==============================] - 5s 10ms/step - loss: 0.2637 - accuracy: 0.9234 - val_loss: 0.2479 - val_accuracy: 0.9309\n",
            "Epoch 12/25\n",
            "469/469 [==============================] - 4s 8ms/step - loss: 0.2538 - accuracy: 0.9257 - val_loss: 0.2391 - val_accuracy: 0.9324\n",
            "Epoch 13/25\n",
            "469/469 [==============================] - 4s 8ms/step - loss: 0.2447 - accuracy: 0.9292 - val_loss: 0.2305 - val_accuracy: 0.9353\n",
            "Epoch 14/25\n",
            "469/469 [==============================] - 4s 8ms/step - loss: 0.2364 - accuracy: 0.9310 - val_loss: 0.2223 - val_accuracy: 0.9365\n",
            "Epoch 15/25\n",
            "469/469 [==============================] - 4s 8ms/step - loss: 0.2286 - accuracy: 0.9336 - val_loss: 0.2178 - val_accuracy: 0.9372\n",
            "Epoch 16/25\n",
            "469/469 [==============================] - 3s 7ms/step - loss: 0.2217 - accuracy: 0.9359 - val_loss: 0.2115 - val_accuracy: 0.9401\n",
            "Epoch 17/25\n",
            "469/469 [==============================] - 4s 8ms/step - loss: 0.2152 - accuracy: 0.9371 - val_loss: 0.2044 - val_accuracy: 0.9414\n",
            "Epoch 18/25\n",
            "469/469 [==============================] - 4s 8ms/step - loss: 0.2087 - accuracy: 0.9394 - val_loss: 0.1990 - val_accuracy: 0.9432\n",
            "Epoch 19/25\n",
            "469/469 [==============================] - 3s 7ms/step - loss: 0.2027 - accuracy: 0.9409 - val_loss: 0.1944 - val_accuracy: 0.9454\n",
            "Epoch 20/25\n",
            "469/469 [==============================] - 4s 7ms/step - loss: 0.1969 - accuracy: 0.9420 - val_loss: 0.1890 - val_accuracy: 0.9457\n",
            "Epoch 21/25\n",
            "469/469 [==============================] - 4s 8ms/step - loss: 0.1915 - accuracy: 0.9439 - val_loss: 0.1849 - val_accuracy: 0.9467\n",
            "Epoch 22/25\n",
            "469/469 [==============================] - 4s 8ms/step - loss: 0.1865 - accuracy: 0.9449 - val_loss: 0.1807 - val_accuracy: 0.9483\n",
            "Epoch 23/25\n",
            "469/469 [==============================] - 3s 7ms/step - loss: 0.1816 - accuracy: 0.9467 - val_loss: 0.1757 - val_accuracy: 0.9495\n",
            "Epoch 24/25\n",
            "469/469 [==============================] - 4s 8ms/step - loss: 0.1769 - accuracy: 0.9483 - val_loss: 0.1708 - val_accuracy: 0.9499\n",
            "Epoch 25/25\n",
            "469/469 [==============================] - 4s 8ms/step - loss: 0.1727 - accuracy: 0.9495 - val_loss: 0.1691 - val_accuracy: 0.9529\n",
            "Test loss:  0.16910703480243683\n",
            "Test accuracy:  0.9528999924659729\n"
          ]
        }
      ]
    },
    {
      "cell_type": "markdown",
      "source": [
        "**Getting the symbolic outputs of each key layer**"
      ],
      "metadata": {
        "id": "B79uC32c5LQv"
      }
    },
    {
      "cell_type": "code",
      "source": [
        "layer_dict = dict([(layer.name, layer) for layer in model.layers])\n",
        "layer_dict"
      ],
      "metadata": {
        "colab": {
          "base_uri": "https://localhost:8080/"
        },
        "id": "uz2NZi-74gq7",
        "outputId": "a8da9f43-eb4c-496f-c7d3-24c6409becd6"
      },
      "execution_count": null,
      "outputs": [
        {
          "output_type": "execute_result",
          "data": {
            "text/plain": [
              "{'conv2d': <keras.layers.convolutional.conv2d.Conv2D at 0x7d9e2db71870>,\n",
              " 'conv2d_1': <keras.layers.convolutional.conv2d.Conv2D at 0x7d9e2db72e90>,\n",
              " 'max_pooling2d': <keras.layers.pooling.max_pooling2d.MaxPooling2D at 0x7d9e2db72050>,\n",
              " 'flatten': <keras.layers.reshaping.flatten.Flatten at 0x7d9e2db716c0>,\n",
              " 'dense': <keras.layers.core.dense.Dense at 0x7d9e1cb399f0>,\n",
              " 'dense_1': <keras.layers.core.dense.Dense at 0x7d9e1cb3a170>}"
            ]
          },
          "metadata": {},
          "execution_count": 9
        }
      ]
    },
    {
      "cell_type": "markdown",
      "source": [
        "**Get Shapes of the convolution filters**"
      ],
      "metadata": {
        "id": "9Ty5Td_p5z-m"
      }
    },
    {
      "cell_type": "code",
      "source": [
        "for layer in model.layers:\n",
        "  if 'conv' not in layer.name:\n",
        "    continue\n",
        "\n",
        "  filters, biases = layer.get_weights()\n",
        "  print(layer.name, filters.shape)"
      ],
      "metadata": {
        "colab": {
          "base_uri": "https://localhost:8080/"
        },
        "id": "Z_GkEi3-5nM6",
        "outputId": "ee4c0994-3907-462c-c705-08c722b55cb6"
      },
      "execution_count": null,
      "outputs": [
        {
          "output_type": "stream",
          "name": "stdout",
          "text": [
            "conv2d (3, 3, 1, 32)\n",
            "conv2d_1 (3, 3, 32, 64)\n"
          ]
        }
      ]
    },
    {
      "cell_type": "markdown",
      "source": [
        "**Weights of the first convolution layer**"
      ],
      "metadata": {
        "id": "iM1rsgyv6YVW"
      }
    },
    {
      "cell_type": "code",
      "source": [
        "filters, biases = model.layers[0].get_weights()\n",
        "\n",
        "print(filters.shape)\n",
        "filters"
      ],
      "metadata": {
        "colab": {
          "base_uri": "https://localhost:8080/"
        },
        "id": "yxlsgqdA6JK_",
        "outputId": "8999526a-f44e-43dd-d21e-7b3fb2b0d1c3"
      },
      "execution_count": null,
      "outputs": [
        {
          "output_type": "stream",
          "name": "stdout",
          "text": [
            "(3, 3, 1, 32)\n"
          ]
        },
        {
          "output_type": "execute_result",
          "data": {
            "text/plain": [
              "array([[[[ 0.02925858,  0.0453357 ,  0.01661648, -0.00616273,\n",
              "           0.09889779, -0.08514488,  0.21208295,  0.06757866,\n",
              "           0.16066411,  0.04817413,  0.07822353, -0.1203122 ,\n",
              "          -0.11124085,  0.24442491, -0.10460828, -0.10847425,\n",
              "          -0.13602094, -0.05436506,  0.02239523, -0.08803226,\n",
              "           0.14255844, -0.11347646,  0.05559495,  0.029506  ,\n",
              "           0.06556533,  0.08253212,  0.10192268,  0.06184997,\n",
              "           0.17288148,  0.07399745, -0.08064298,  0.04597731]],\n",
              "\n",
              "        [[ 0.01293739,  0.25663695,  0.08578505, -0.08621956,\n",
              "           0.09291124, -0.1219573 ,  0.0913482 ,  0.20994298,\n",
              "           0.03646263,  0.04492196,  0.12627223, -0.01759299,\n",
              "          -0.1366783 ,  0.09391483,  0.0776646 , -0.053707  ,\n",
              "          -0.09516641, -0.08439098,  0.10125764, -0.03172768,\n",
              "           0.15695807,  0.08989471, -0.01467527,  0.01015081,\n",
              "           0.2111797 ,  0.09817608,  0.23187356,  0.18908532,\n",
              "           0.12790303, -0.10166247, -0.10386491, -0.04505825]],\n",
              "\n",
              "        [[-0.08685389,  0.12995109,  0.19134013,  0.01206617,\n",
              "           0.09840526, -0.05216995,  0.15216786,  0.14697681,\n",
              "          -0.08456147,  0.055638  ,  0.22110097,  0.15755956,\n",
              "          -0.0616481 ,  0.25303814,  0.03839439, -0.04408659,\n",
              "           0.14413197, -0.0537594 ,  0.0459245 , -0.04880349,\n",
              "           0.04355725, -0.09244705,  0.13305715, -0.05369899,\n",
              "           0.11645255, -0.07273453,  0.20429638,  0.2681735 ,\n",
              "           0.26860338, -0.01687069,  0.03532079,  0.0278494 ]]],\n",
              "\n",
              "\n",
              "       [[[-0.06067732,  0.2694855 ,  0.16642603, -0.1176109 ,\n",
              "           0.19673936, -0.03476484,  0.00853352, -0.01935681,\n",
              "           0.00685751,  0.15116873, -0.08265065,  0.01442011,\n",
              "           0.11130591, -0.00363638,  0.01057059, -0.14047125,\n",
              "          -0.09607662, -0.07405576,  0.09435328, -0.05887958,\n",
              "           0.12697195, -0.07303637,  0.1443483 ,  0.06423143,\n",
              "           0.13732217, -0.0276974 ,  0.11373471,  0.24864042,\n",
              "           0.16784555,  0.12581037, -0.09679043,  0.04784189]],\n",
              "\n",
              "        [[-0.00041862,  0.2914326 ,  0.23601195, -0.05066473,\n",
              "           0.23187546,  0.01881819,  0.05242927,  0.18916333,\n",
              "           0.14037108,  0.16407746,  0.01906815,  0.02896051,\n",
              "          -0.06728715,  0.16987999, -0.11578741, -0.03281394,\n",
              "          -0.07172557,  0.09336165, -0.00367666, -0.04512743,\n",
              "           0.2849167 , -0.11446349,  0.08870019, -0.11519481,\n",
              "           0.18505475,  0.0527254 ,  0.1950544 ,  0.26039398,\n",
              "           0.32412544, -0.11058298,  0.09555538,  0.08252596]],\n",
              "\n",
              "        [[ 0.01123464,  0.17858732,  0.11909758,  0.03857104,\n",
              "           0.0922676 ,  0.06266043, -0.0310874 , -0.05824292,\n",
              "           0.04594311,  0.18363862,  0.1462506 ,  0.10196107,\n",
              "           0.15372072,  0.23634562,  0.013645  , -0.1027772 ,\n",
              "          -0.09978423,  0.0964679 , -0.12707956, -0.1403924 ,\n",
              "           0.22828205,  0.08258239,  0.1742955 , -0.08868673,\n",
              "          -0.00807656,  0.04465768,  0.00273104,  0.12029732,\n",
              "           0.25548422, -0.00935399, -0.02352557,  0.00256863]]],\n",
              "\n",
              "\n",
              "       [[[ 0.0541595 ,  0.26735672,  0.10164667, -0.13396709,\n",
              "           0.10844222, -0.1056162 ,  0.14451742,  0.1593204 ,\n",
              "          -0.07685497,  0.21460395,  0.02952621, -0.04697278,\n",
              "          -0.02144263, -0.00760819,  0.08674176,  0.11764099,\n",
              "          -0.00692776, -0.00622694, -0.05441615, -0.02117366,\n",
              "           0.04991373, -0.07316717,  0.02399749,  0.09536426,\n",
              "           0.07679033, -0.07428607,  0.09122571,  0.23703787,\n",
              "           0.20062143, -0.04506227,  0.12107427, -0.08839077]],\n",
              "\n",
              "        [[ 0.00793309,  0.17852768,  0.25104478, -0.05199302,\n",
              "           0.02728474, -0.13248883,  0.17893408,  0.0713449 ,\n",
              "          -0.01281123,  0.10784811,  0.14937387, -0.08945236,\n",
              "          -0.01692181,  0.19038856, -0.01098171,  0.05783191,\n",
              "          -0.14184345,  0.12708983, -0.04239313,  0.03061332,\n",
              "           0.26946804,  0.08211183,  0.08650727, -0.07587168,\n",
              "           0.2433406 , -0.03485007,  0.17852846,  0.15441868,\n",
              "           0.23570861,  0.01934466,  0.13642783, -0.12545432]],\n",
              "\n",
              "        [[-0.01888621,  0.00774997,  0.23325643, -0.04546854,\n",
              "          -0.05671706,  0.11829392,  0.11476052,  0.08101142,\n",
              "          -0.0743375 ,  0.09152051,  0.11224   , -0.06167934,\n",
              "           0.06324857,  0.16673604, -0.13875106,  0.0750951 ,\n",
              "           0.08934029, -0.07063423, -0.06228009, -0.11009744,\n",
              "           0.22402371, -0.00855885,  0.16072161, -0.09606411,\n",
              "           0.125339  ,  0.04947654, -0.02127641, -0.01528783,\n",
              "           0.13515453, -0.00675741,  0.05694856, -0.06386711]]]],\n",
              "      dtype=float32)"
            ]
          },
          "metadata": {},
          "execution_count": 20
        }
      ]
    },
    {
      "cell_type": "code",
      "source": [
        "print(biases.shape)\n",
        "biases"
      ],
      "metadata": {
        "colab": {
          "base_uri": "https://localhost:8080/"
        },
        "id": "1tPGufJl6lXx",
        "outputId": "a686993b-4bf3-428f-b886-4ec4f61b8322"
      },
      "execution_count": null,
      "outputs": [
        {
          "output_type": "stream",
          "name": "stdout",
          "text": [
            "(32,)\n"
          ]
        },
        {
          "output_type": "execute_result",
          "data": {
            "text/plain": [
              "array([ 4.1263916e-02,  1.6211074e-02,  2.1440025e-02,  3.1958740e-02,\n",
              "        1.3187822e-04,  6.6151479e-05,  1.3913197e-04,  4.0060688e-05,\n",
              "        1.3337031e-02,  1.0115852e-04,  6.3794723e-05,  3.2004882e-06,\n",
              "        2.1377338e-02,  1.4590200e-04,  4.4640894e-03,  3.0375885e-02,\n",
              "       -4.2673048e-05,  1.6185537e-02,  3.0319747e-05, -2.6434179e-06,\n",
              "        4.4854912e-03, -3.9614225e-03,  1.2259181e-03,  1.3726561e-03,\n",
              "        1.7661584e-03,  5.5034429e-06,  1.7358780e-02,  6.3765496e-03,\n",
              "        1.1343367e-02, -6.1090318e-03,  1.0778557e-02, -6.0478789e-03],\n",
              "      dtype=float32)"
            ]
          },
          "metadata": {},
          "execution_count": 21
        }
      ]
    },
    {
      "cell_type": "markdown",
      "source": [
        "**Normalizing filter values so we can visualize them**"
      ],
      "metadata": {
        "id": "fFu1A-rQ7H9G"
      }
    },
    {
      "cell_type": "code",
      "source": [
        "f_min, f_max = filters.min(), filters.max()\n",
        "print(f'Before Normalization, Min = {f_min} and Max = {f_max}')\n",
        "\n",
        "filters = (filters - f_min) / (f_max - f_min)\n",
        "print(f'After Normalization, Min = {filters.min()} and Max = {filters.max()}')"
      ],
      "metadata": {
        "colab": {
          "base_uri": "https://localhost:8080/"
        },
        "id": "aBKCSe5_7BjU",
        "outputId": "3d3f2dbb-b944-458d-aec8-6f86b1c8ed05"
      },
      "execution_count": null,
      "outputs": [
        {
          "output_type": "stream",
          "name": "stdout",
          "text": [
            "Before Normalization, Min = -0.14184345304965973 and Max = 0.3241254389286041\n",
            "After Normalization, Min = 0.0 and Max = 1.0\n"
          ]
        }
      ]
    },
    {
      "cell_type": "markdown",
      "source": [
        "**Visualizing our trained filters**"
      ],
      "metadata": {
        "id": "bOsnMS078Mc_"
      }
    },
    {
      "cell_type": "code",
      "source": [
        "import matplotlib.pyplot as plt\n",
        "import numpy as np\n",
        "\n",
        "# Plot first few filters and set plot size\n",
        "n_filters, ix = 32, 1\n",
        "plt.figure(figsize=(12,20))\n",
        "\n",
        "for i in range(n_filters):\n",
        "  f = filters[:,:,:,i]\n",
        "\n",
        "  ax = plt.subplot(n_filters, 4, ix)\n",
        "  ax.set_xticks([])\n",
        "  ax.set_yticks([])\n",
        "\n",
        "  plt.imshow(np.squeeze(f, axis=2), cmap='gray_r')\n",
        "  ix += 1\n",
        "\n",
        "plt.show()"
      ],
      "metadata": {
        "colab": {
          "base_uri": "https://localhost:8080/",
          "height": 415
        },
        "id": "a0RZLy757pak",
        "outputId": "d07096c9-05c5-4b65-e612-2bca5642e49f"
      },
      "execution_count": null,
      "outputs": [
        {
          "output_type": "display_data",
          "data": {
            "text/plain": [
              "<Figure size 1200x2000 with 32 Axes>"
            ],
            "image/png": "[encoded data removed]"
          },
          "metadata": {}
        }
      ]
    },
    {
      "cell_type": "markdown",
      "source": [
        "**Filter Activations**"
      ],
      "metadata": {
        "id": "ZqRoA-Lm-Syt"
      }
    },
    {
      "cell_type": "code",
      "source": [
        "from tensorflow.keras.models import Model\n",
        "\n",
        "layer_outputs = [layer.output for layer in model.layers[:2]]\n",
        "\n",
        "activation_model = Model(inputs=model.input, outputs=layer_outputs)"
      ],
      "metadata": {
        "id": "d5Z2ppAS9Jkh"
      },
      "execution_count": null,
      "outputs": []
    },
    {
      "cell_type": "code",
      "source": [
        "layer_outputs"
      ],
      "metadata": {
        "colab": {
          "base_uri": "https://localhost:8080/"
        },
        "id": "AZ64xunh-pKH",
        "outputId": "c79ea2ec-e119-40a5-a4c1-605f6fdb93ba"
      },
      "execution_count": null,
      "outputs": [
        {
          "output_type": "execute_result",
          "data": {
            "text/plain": [
              "[<KerasTensor: shape=(None, 26, 26, 32) dtype=float32 (created by layer 'conv2d')>,\n",
              " <KerasTensor: shape=(None, 24, 24, 64) dtype=float32 (created by layer 'conv2d_1')>]"
            ]
          },
          "metadata": {},
          "execution_count": 29
        }
      ]
    },
    {
      "cell_type": "code",
      "source": [
        "import matplotlib.pyplot as plt\n",
        "\n",
        "# Use a random test image\n",
        "img_tensor = x_test[22].reshape(1, 28, 28, 1)\n",
        "fig = plt.figure(figsize=(5,5))\n",
        "plt.imshow(img_tensor[0,:,:,0], cmap='gray')\n",
        "plt.axis('off')"
      ],
      "metadata": {
        "colab": {
          "base_uri": "https://localhost:8080/",
          "height": 439
        },
        "id": "EZVAmfOK-sdT",
        "outputId": "28b1da6d-f7dc-491e-9261-e33d5ab4a627"
      },
      "execution_count": null,
      "outputs": [
        {
          "output_type": "execute_result",
          "data": {
            "text/plain": [
              "(-0.5, 27.5, 27.5, -0.5)"
            ]
          },
          "metadata": {},
          "execution_count": 31
        },
        {
          "output_type": "display_data",
          "data": {
            "text/plain": [
              "<Figure size 500x500 with 1 Axes>"
            ],
            "image/png": "[encoded data removed]"
          },
          "metadata": {}
        }
      ]
    },
    {
      "cell_type": "markdown",
      "source": [
        "**Get the output after the 2nd Conv Layer**"
      ],
      "metadata": {
        "id": "T6tULL2c_s1u"
      }
    },
    {
      "cell_type": "code",
      "source": [
        "activations = activation_model.predict(img_tensor)\n",
        "\n",
        "print('Number of layer activations: ', str(len(activations)))"
      ],
      "metadata": {
        "colab": {
          "base_uri": "https://localhost:8080/"
        },
        "id": "GKZmyIim_lv6",
        "outputId": "82213aa3-2bda-4a9f-b88b-1621c6988953"
      },
      "execution_count": null,
      "outputs": [
        {
          "output_type": "stream",
          "name": "stdout",
          "text": [
            "1/1 [==============================] - 0s 137ms/step\n",
            "Number of layer activations:  2\n"
          ]
        }
      ]
    },
    {
      "cell_type": "code",
      "source": [
        "first_layer_activation = activations[0]\n",
        "print(first_layer_activation.shape)"
      ],
      "metadata": {
        "colab": {
          "base_uri": "https://localhost:8080/"
        },
        "id": "kAs6XtqT_7a7",
        "outputId": "9ae65395-84e3-4ea8-dce6-d1e58f03b5ac"
      },
      "execution_count": null,
      "outputs": [
        {
          "output_type": "stream",
          "name": "stdout",
          "text": [
            "(1, 26, 26, 32)\n"
          ]
        }
      ]
    },
    {
      "cell_type": "code",
      "source": [
        "second_layer_activation = activations[1]\n",
        "print(second_layer_activation.shape)"
      ],
      "metadata": {
        "colab": {
          "base_uri": "https://localhost:8080/"
        },
        "id": "GTsyCfDqAFJ2",
        "outputId": "8b33b90b-e135-4b0c-873a-85b35d4b9d25"
      },
      "execution_count": null,
      "outputs": [
        {
          "output_type": "stream",
          "name": "stdout",
          "text": [
            "(1, 24, 24, 64)\n"
          ]
        }
      ]
    },
    {
      "cell_type": "code",
      "source": [
        "print(model.summary())"
      ],
      "metadata": {
        "colab": {
          "base_uri": "https://localhost:8080/"
        },
        "id": "3s08i6oWAIkB",
        "outputId": "87050283-886e-4e72-a564-0b1bdb8e58b1"
      },
      "execution_count": null,
      "outputs": [
        {
          "output_type": "stream",
          "name": "stdout",
          "text": [
            "Model: \"sequential\"\n",
            "_________________________________________________________________\n",
            " Layer (type)                Output Shape              Param #   \n",
            "=================================================================\n",
            " conv2d (Conv2D)             (None, 26, 26, 32)        320       \n",
            "                                                                 \n",
            " conv2d_1 (Conv2D)           (None, 24, 24, 64)        18496     \n",
            "                                                                 \n",
            " max_pooling2d (MaxPooling2D  (None, 12, 12, 64)       0         \n",
            " )                                                               \n",
            "                                                                 \n",
            " flatten (Flatten)           (None, 9216)              0         \n",
            "                                                                 \n",
            " dense (Dense)               (None, 128)               1179776   \n",
            "                                                                 \n",
            " dense_1 (Dense)             (None, 10)                1290      \n",
            "                                                                 \n",
            "=================================================================\n",
            "Total params: 1,199,882\n",
            "Trainable params: 1,199,882\n",
            "Non-trainable params: 0\n",
            "_________________________________________________________________\n",
            "None\n"
          ]
        }
      ]
    },
    {
      "cell_type": "markdown",
      "source": [
        "**Output of 4th Conv Filter Feature Map in the first Conv Layer**"
      ],
      "metadata": {
        "id": "cU6m5TSZAl5n"
      }
    },
    {
      "cell_type": "code",
      "source": [
        "plt.matshow(first_layer_activation[0,:,:,3], cmap='viridis')\n",
        "plt.legend()"
      ],
      "metadata": {
        "colab": {
          "base_uri": "https://localhost:8080/",
          "height": 472
        },
        "id": "1DPeZwWjAlT0",
        "outputId": "a6aa12b5-a2d2-48cd-a222-78581a319e98"
      },
      "execution_count": null,
      "outputs": [
        {
          "output_type": "stream",
          "name": "stderr",
          "text": [
            "WARNING:matplotlib.legend:No artists with labels found to put in legend.  Note that artists whose label start with an underscore are ignored when legend() is called with no argument.\n"
          ]
        },
        {
          "output_type": "execute_result",
          "data": {
            "text/plain": [
              "<matplotlib.legend.Legend at 0x7d9df0416500>"
            ]
          },
          "metadata": {},
          "execution_count": 36
        },
        {
          "output_type": "display_data",
          "data": {
            "text/plain": [
              "<Figure size 480x480 with 1 Axes>"
            ],
            "image/png": "[encoded data removed]"
          },
          "metadata": {}
        }
      ]
    },
    {
      "cell_type": "markdown",
      "source": [
        "**Create Functions that displays activation of specific layers**"
      ],
      "metadata": {
        "id": "5qxNabXqBDt9"
      }
    },
    {
      "cell_type": "code",
      "source": [
        "def display_activation(activations, col_size, row_size, act_index):\n",
        "  activation = activations[act_index]\n",
        "  activation_index=0\n",
        "  fig, ax = plt.subplots(row_size, col_size, figsize=(row_size*2.5, col_size*1.5))\n",
        "\n",
        "  for row in range(0, row_size):\n",
        "    for col in range(0, col_size):\n",
        "      ax[row][col].imshow(activation[0,:,:,activation_index], cmap='viridis')\n",
        "      activation_index += 1"
      ],
      "metadata": {
        "id": "wcGpV3FqAL2n"
      },
      "execution_count": null,
      "outputs": []
    },
    {
      "cell_type": "code",
      "source": [
        "display_activation(activations, 4, 8, 0)"
      ],
      "metadata": {
        "colab": {
          "base_uri": "https://localhost:8080/",
          "height": 527
        },
        "id": "eCwzUuvdBQNE",
        "outputId": "b2762315-d7a5-4421-db7f-eccd4f18e0f0"
      },
      "execution_count": null,
      "outputs": [
        {
          "output_type": "display_data",
          "data": {
            "text/plain": [
              "<Figure size 2000x600 with 32 Axes>"
            ],
            "image/png": "[encoded data removed]"
          },
          "metadata": {}
        }
      ]
    }
  ]
}
