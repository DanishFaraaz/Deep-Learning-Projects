{
  "nbformat": 4,
  "nbformat_minor": 0,
  "metadata": {
    "colab": {
      "provenance": [],
      "gpuType": "T4",
      "authorship_tag": "ABX9TyMx54osHbdNH5+c35IVFxpE",
      "include_colab_link": true
    },
    "kernelspec": {
      "name": "python3",
      "display_name": "Python 3"
    },
    "language_info": {
      "name": "python"
    },
    "accelerator": "GPU"
  },
  "cells": [
    {
      "cell_type": "markdown",
      "metadata": {
        "id": "view-in-github",
        "colab_type": "text"
      },
      "source": [
        "<a href=\"https://colab.research.google.com/github/DanishFaraaz/Deep-Learning-Projects/blob/main/8_Pytorch_Fashion_MNIST_With_Regularization.ipynb\" target=\"_parent\"><img src=\"https://colab.research.google.com/assets/colab-badge.svg\" alt=\"Open In Colab\"/></a>"
      ]
    },
    {
      "cell_type": "code",
      "execution_count": null,
      "metadata": {
        "id": "W4VJjh_augHY",
        "colab": {
          "base_uri": "https://localhost:8080/"
        },
        "outputId": "f4ad4f30-3e27-4375-9da9-c8c33d9167fc"
      },
      "outputs": [
        {
          "output_type": "stream",
          "name": "stdout",
          "text": [
            "GPU Available: True\n"
          ]
        }
      ],
      "source": [
        "import torch\n",
        "import PIL\n",
        "\n",
        "import torchvision\n",
        "import torchvision.transforms as transforms\n",
        "\n",
        "import torch.optim as optim\n",
        "import torch.nn as nn\n",
        "\n",
        "print(\"GPU Available: {}\".format(torch.cuda.is_available()))\n",
        "device = 'cuda'"
      ]
    },
    {
      "cell_type": "markdown",
      "source": [
        "**Using Transforms for Data Augmentation**"
      ],
      "metadata": {
        "id": "mMRMz-Y1u89K"
      }
    },
    {
      "cell_type": "code",
      "source": [
        "data_transforms = {\n",
        "    'train': transforms.Compose([\n",
        "        transforms.RandomAffine(degrees=10, translate=(0.05,0.05), shear=5),\n",
        "        transforms.ColorJitter(hue=.05, saturation=.05),\n",
        "        transforms.RandomHorizontalFlip(),\n",
        "        transforms.RandomRotation(15, interpolation=PIL.Image.BILINEAR),\n",
        "        transforms.Grayscale(num_output_channels=1),\n",
        "        transforms.ToTensor(),\n",
        "        transforms.Normalize((0.5, ),(0.5, ))\n",
        "    ]),\n",
        "    'val': transforms.Compose([\n",
        "        transforms.ToTensor(),\n",
        "        transforms.Normalize((0.5, ),(0.5, ))\n",
        "    ])\n",
        "}"
      ],
      "metadata": {
        "id": "-AV9JC98uw-z"
      },
      "execution_count": null,
      "outputs": []
    },
    {
      "cell_type": "code",
      "source": [
        "trainset = torchvision.datasets.FashionMNIST(root='./data', train=True, download=True, transform=data_transforms['train'])\n",
        "testset = torchvision.datasets.FashionMNIST(root='./data', train=False, download=True, transform=data_transforms['val'])\n",
        "\n",
        "trainloader = torch.utils.data.DataLoader(trainset, batch_size=32, shuffle=True, num_workers=2)\n",
        "testloader = torch.utils.data.DataLoader(testset, batch_size=32, shuffle=False, num_workers=2)\n",
        "\n",
        "classes = ['T-shirt/top', 'Trouser', 'Pullover', 'Dress',\n",
        "           'Coat', 'Sandal', 'Shirt', 'Sneaker', 'Bag', 'Ankle boot']"
      ],
      "metadata": {
        "colab": {
          "base_uri": "https://localhost:8080/"
        },
        "id": "_EbHgVMRvlz4",
        "outputId": "c31f8c14-9d6b-4387-d0d3-b1b3f0f11971"
      },
      "execution_count": null,
      "outputs": [
        {
          "output_type": "stream",
          "name": "stdout",
          "text": [
            "Downloading http://fashion-mnist.s3-website.eu-central-1.amazonaws.com/train-images-idx3-ubyte.gz\n",
            "Downloading http://fashion-mnist.s3-website.eu-central-1.amazonaws.com/train-images-idx3-ubyte.gz to ./data/FashionMNIST/raw/train-images-idx3-ubyte.gz\n"
          ]
        },
        {
          "output_type": "stream",
          "name": "stderr",
          "text": [
            "100%|██████████| 26421880/26421880 [00:02<00:00, 10530919.76it/s]\n"
          ]
        },
        {
          "output_type": "stream",
          "name": "stdout",
          "text": [
            "Extracting ./data/FashionMNIST/raw/train-images-idx3-ubyte.gz to ./data/FashionMNIST/raw\n",
            "\n",
            "Downloading http://fashion-mnist.s3-website.eu-central-1.amazonaws.com/train-labels-idx1-ubyte.gz\n",
            "Downloading http://fashion-mnist.s3-website.eu-central-1.amazonaws.com/train-labels-idx1-ubyte.gz to ./data/FashionMNIST/raw/train-labels-idx1-ubyte.gz\n"
          ]
        },
        {
          "output_type": "stream",
          "name": "stderr",
          "text": [
            "100%|██████████| 29515/29515 [00:00<00:00, 174107.39it/s]\n"
          ]
        },
        {
          "output_type": "stream",
          "name": "stdout",
          "text": [
            "Extracting ./data/FashionMNIST/raw/train-labels-idx1-ubyte.gz to ./data/FashionMNIST/raw\n",
            "\n",
            "Downloading http://fashion-mnist.s3-website.eu-central-1.amazonaws.com/t10k-images-idx3-ubyte.gz\n",
            "Downloading http://fashion-mnist.s3-website.eu-central-1.amazonaws.com/t10k-images-idx3-ubyte.gz to ./data/FashionMNIST/raw/t10k-images-idx3-ubyte.gz\n"
          ]
        },
        {
          "output_type": "stream",
          "name": "stderr",
          "text": [
            "100%|██████████| 4422102/4422102 [00:01<00:00, 3238062.27it/s]\n"
          ]
        },
        {
          "output_type": "stream",
          "name": "stdout",
          "text": [
            "Extracting ./data/FashionMNIST/raw/t10k-images-idx3-ubyte.gz to ./data/FashionMNIST/raw\n",
            "\n",
            "Downloading http://fashion-mnist.s3-website.eu-central-1.amazonaws.com/t10k-labels-idx1-ubyte.gz\n",
            "Downloading http://fashion-mnist.s3-website.eu-central-1.amazonaws.com/t10k-labels-idx1-ubyte.gz to ./data/FashionMNIST/raw/t10k-labels-idx1-ubyte.gz\n"
          ]
        },
        {
          "output_type": "stream",
          "name": "stderr",
          "text": [
            "100%|██████████| 5148/5148 [00:00<00:00, 7533941.73it/s]"
          ]
        },
        {
          "output_type": "stream",
          "name": "stdout",
          "text": [
            "Extracting ./data/FashionMNIST/raw/t10k-labels-idx1-ubyte.gz to ./data/FashionMNIST/raw\n",
            "\n"
          ]
        },
        {
          "output_type": "stream",
          "name": "stderr",
          "text": [
            "\n"
          ]
        }
      ]
    },
    {
      "cell_type": "code",
      "source": [
        "import torch.nn as nn\n",
        "import torch.nn.functional as F\n",
        "\n",
        "class Net(nn.Module):\n",
        "  def __init__(self):\n",
        "    super(Net, self).__init__()\n",
        "    self.conv1 = nn.Conv2d(1, 32, 3)\n",
        "    self.conv1_bn = nn.BatchNorm2d(32)\n",
        "    self.conv2 = nn.Conv2d(32, 64, 3)\n",
        "    self.conv2_bn = nn.BatchNorm2d(64)\n",
        "    self.pool = nn.MaxPool2d(2, 2)\n",
        "    self.fc1 = nn.Linear(64 * 12 * 12, 128)\n",
        "    self.fc2 = nn.Linear(128, 10)\n",
        "    self.dropOut = nn.Dropout(0.2)\n",
        "\n",
        "  def forward(self, x):\n",
        "    x = F.relu(self.conv1_bn(self.conv1(x)))\n",
        "    x = self.dropOut(x)\n",
        "    x = self.dropOut(F.relu(self.conv2_bn(self.conv2(x))))\n",
        "    x = self.pool(x)\n",
        "    x = x.view(-1, 64 * 12 * 12)\n",
        "    x = F.relu(self.fc1(x))\n",
        "    x = self.fc2(x)\n",
        "    return x\n",
        "\n",
        "net = Net()\n",
        "net.to(device)"
      ],
      "metadata": {
        "colab": {
          "base_uri": "https://localhost:8080/"
        },
        "id": "Xyflm9UOwKz3",
        "outputId": "036e62a0-d572-474f-8241-b84b04619afa"
      },
      "execution_count": null,
      "outputs": [
        {
          "output_type": "execute_result",
          "data": {
            "text/plain": [
              "Net(\n",
              "  (conv1): Conv2d(1, 32, kernel_size=(3, 3), stride=(1, 1))\n",
              "  (conv1_bn): BatchNorm2d(32, eps=1e-05, momentum=0.1, affine=True, track_running_stats=True)\n",
              "  (conv2): Conv2d(32, 64, kernel_size=(3, 3), stride=(1, 1))\n",
              "  (conv2_bn): BatchNorm2d(64, eps=1e-05, momentum=0.1, affine=True, track_running_stats=True)\n",
              "  (pool): MaxPool2d(kernel_size=2, stride=2, padding=0, dilation=1, ceil_mode=False)\n",
              "  (fc1): Linear(in_features=9216, out_features=128, bias=True)\n",
              "  (fc2): Linear(in_features=128, out_features=10, bias=True)\n",
              "  (dropOut): Dropout(p=0.2, inplace=False)\n",
              ")"
            ]
          },
          "metadata": {},
          "execution_count": 20
        }
      ]
    },
    {
      "cell_type": "markdown",
      "source": [
        "**Adding L2 Regularization**"
      ],
      "metadata": {
        "id": "NQb78k6txxOB"
      }
    },
    {
      "cell_type": "code",
      "source": [
        "import torch.optim as optim\n",
        "\n",
        "criterion = nn.CrossEntropyLoss()\n",
        "\n",
        "optimizer = optim.SGD(net.parameters(), lr=0.001, momentum=0.9, weight_decay=0.001)"
      ],
      "metadata": {
        "id": "Gt1Rs_ZZxDzJ"
      },
      "execution_count": null,
      "outputs": []
    },
    {
      "cell_type": "code",
      "source": [
        "epochs = 15\n",
        "\n",
        "epoch_log = []\n",
        "loss_log = []\n",
        "accuracy_log = []\n",
        "\n",
        "for epoch in range(epochs):\n",
        "  print(f'Staring Epoch: {epoch+1}....')\n",
        "\n",
        "  running_loss = 0.0\n",
        "\n",
        "  for i, data in enumerate(trainloader, 0):\n",
        "    inputs, labels = data\n",
        "\n",
        "    inputs = inputs.to(device)\n",
        "    labels = labels.to(device)\n",
        "\n",
        "    optimizer.zero_grad()\n",
        "\n",
        "    outputs = net(inputs)\n",
        "    loss = criterion(outputs, labels)\n",
        "    loss.backward()\n",
        "    optimizer.step()\n",
        "\n",
        "    running_loss += loss.item()\n",
        "\n",
        "    if i%100==99:\n",
        "      correct = 0\n",
        "      total = 0\n",
        "\n",
        "      with torch.no_grad():\n",
        "        for data in testloader:\n",
        "          images, labels = data\n",
        "          images = images.to(device)\n",
        "          labels = labels.to(device)\n",
        "\n",
        "          outputs = net(images)\n",
        "\n",
        "          _, predicted = torch.max(outputs.data, 1)\n",
        "          total += labels.size(0)\n",
        "          correct += (predicted==labels).sum().item()\n",
        "\n",
        "        accuracy = 100 * correct / total\n",
        "        epoch_num = epoch + 1\n",
        "        actual_loss = running_loss / 50\n",
        "        print(f'Epoch : {epoch_num}, Mini-Batches Completed: {(i + 1)}, Loss: {actual_loss:.3f}, Test Accuracy = {accuracy:.3f}%')\n",
        "        running_loss = 0.0\n",
        "\n",
        "  epoch_log.append(epoch_num)\n",
        "  loss_log.append(actual_loss)\n",
        "  accuracy_log.append(accuracy)\n",
        "\n",
        "print(\"Finished Training\")"
      ],
      "metadata": {
        "colab": {
          "base_uri": "https://localhost:8080/"
        },
        "id": "mr_F1Eqpx7_U",
        "outputId": "70db1e69-6f9b-4845-a0b6-5146f6f1756c"
      },
      "execution_count": null,
      "outputs": [
        {
          "output_type": "stream",
          "name": "stdout",
          "text": [
            "Staring Epoch: 1....\n",
            "Epoch : 1, Mini-Batches Completed: 100, Loss: 2.510, Test Accuracy = 70.910%\n",
            "Epoch : 1, Mini-Batches Completed: 200, Loss: 1.553, Test Accuracy = 75.810%\n",
            "Epoch : 1, Mini-Batches Completed: 300, Loss: 1.407, Test Accuracy = 75.790%\n",
            "Epoch : 1, Mini-Batches Completed: 400, Loss: 1.419, Test Accuracy = 76.940%\n",
            "Epoch : 1, Mini-Batches Completed: 500, Loss: 1.314, Test Accuracy = 77.500%\n",
            "Epoch : 1, Mini-Batches Completed: 600, Loss: 1.203, Test Accuracy = 79.560%\n",
            "Epoch : 1, Mini-Batches Completed: 700, Loss: 1.236, Test Accuracy = 80.470%\n",
            "Epoch : 1, Mini-Batches Completed: 800, Loss: 1.246, Test Accuracy = 78.880%\n",
            "Epoch : 1, Mini-Batches Completed: 900, Loss: 1.204, Test Accuracy = 80.950%\n",
            "Epoch : 1, Mini-Batches Completed: 1000, Loss: 1.226, Test Accuracy = 81.650%\n",
            "Epoch : 1, Mini-Batches Completed: 1100, Loss: 1.106, Test Accuracy = 81.850%\n",
            "Epoch : 1, Mini-Batches Completed: 1200, Loss: 1.084, Test Accuracy = 81.300%\n",
            "Epoch : 1, Mini-Batches Completed: 1300, Loss: 1.067, Test Accuracy = 83.030%\n",
            "Epoch : 1, Mini-Batches Completed: 1400, Loss: 1.089, Test Accuracy = 82.920%\n",
            "Epoch : 1, Mini-Batches Completed: 1500, Loss: 1.038, Test Accuracy = 82.300%\n",
            "Epoch : 1, Mini-Batches Completed: 1600, Loss: 1.062, Test Accuracy = 81.690%\n",
            "Epoch : 1, Mini-Batches Completed: 1700, Loss: 1.034, Test Accuracy = 82.130%\n",
            "Epoch : 1, Mini-Batches Completed: 1800, Loss: 1.069, Test Accuracy = 83.310%\n",
            "Staring Epoch: 2....\n",
            "Epoch : 2, Mini-Batches Completed: 100, Loss: 0.988, Test Accuracy = 83.390%\n",
            "Epoch : 2, Mini-Batches Completed: 200, Loss: 0.973, Test Accuracy = 82.710%\n",
            "Epoch : 2, Mini-Batches Completed: 300, Loss: 0.975, Test Accuracy = 84.360%\n",
            "Epoch : 2, Mini-Batches Completed: 400, Loss: 0.987, Test Accuracy = 83.380%\n",
            "Epoch : 2, Mini-Batches Completed: 500, Loss: 0.994, Test Accuracy = 84.640%\n",
            "Epoch : 2, Mini-Batches Completed: 600, Loss: 0.939, Test Accuracy = 83.590%\n",
            "Epoch : 2, Mini-Batches Completed: 700, Loss: 1.027, Test Accuracy = 85.010%\n",
            "Epoch : 2, Mini-Batches Completed: 800, Loss: 0.932, Test Accuracy = 83.930%\n",
            "Epoch : 2, Mini-Batches Completed: 900, Loss: 0.932, Test Accuracy = 84.600%\n",
            "Epoch : 2, Mini-Batches Completed: 1000, Loss: 0.921, Test Accuracy = 85.400%\n",
            "Epoch : 2, Mini-Batches Completed: 1100, Loss: 0.936, Test Accuracy = 84.210%\n",
            "Epoch : 2, Mini-Batches Completed: 1200, Loss: 0.979, Test Accuracy = 84.560%\n",
            "Epoch : 2, Mini-Batches Completed: 1300, Loss: 0.950, Test Accuracy = 82.670%\n",
            "Epoch : 2, Mini-Batches Completed: 1400, Loss: 0.911, Test Accuracy = 85.530%\n",
            "Epoch : 2, Mini-Batches Completed: 1500, Loss: 0.986, Test Accuracy = 84.810%\n",
            "Epoch : 2, Mini-Batches Completed: 1600, Loss: 0.954, Test Accuracy = 85.180%\n",
            "Epoch : 2, Mini-Batches Completed: 1700, Loss: 0.910, Test Accuracy = 85.580%\n",
            "Epoch : 2, Mini-Batches Completed: 1800, Loss: 0.938, Test Accuracy = 84.720%\n",
            "Staring Epoch: 3....\n",
            "Epoch : 3, Mini-Batches Completed: 100, Loss: 0.909, Test Accuracy = 85.090%\n",
            "Epoch : 3, Mini-Batches Completed: 200, Loss: 0.905, Test Accuracy = 86.240%\n",
            "Epoch : 3, Mini-Batches Completed: 300, Loss: 0.872, Test Accuracy = 84.100%\n",
            "Epoch : 3, Mini-Batches Completed: 400, Loss: 0.834, Test Accuracy = 86.280%\n",
            "Epoch : 3, Mini-Batches Completed: 500, Loss: 0.896, Test Accuracy = 85.300%\n",
            "Epoch : 3, Mini-Batches Completed: 600, Loss: 0.828, Test Accuracy = 86.160%\n",
            "Epoch : 3, Mini-Batches Completed: 700, Loss: 0.931, Test Accuracy = 86.260%\n",
            "Epoch : 3, Mini-Batches Completed: 800, Loss: 0.898, Test Accuracy = 86.560%\n",
            "Epoch : 3, Mini-Batches Completed: 900, Loss: 0.913, Test Accuracy = 85.990%\n",
            "Epoch : 3, Mini-Batches Completed: 1000, Loss: 0.821, Test Accuracy = 85.880%\n",
            "Epoch : 3, Mini-Batches Completed: 1100, Loss: 0.837, Test Accuracy = 85.600%\n",
            "Epoch : 3, Mini-Batches Completed: 1200, Loss: 0.848, Test Accuracy = 86.690%\n",
            "Epoch : 3, Mini-Batches Completed: 1300, Loss: 0.849, Test Accuracy = 86.420%\n",
            "Epoch : 3, Mini-Batches Completed: 1400, Loss: 0.871, Test Accuracy = 87.070%\n",
            "Epoch : 3, Mini-Batches Completed: 1500, Loss: 0.914, Test Accuracy = 86.290%\n",
            "Epoch : 3, Mini-Batches Completed: 1600, Loss: 0.822, Test Accuracy = 86.260%\n",
            "Epoch : 3, Mini-Batches Completed: 1700, Loss: 0.842, Test Accuracy = 85.440%\n",
            "Epoch : 3, Mini-Batches Completed: 1800, Loss: 0.878, Test Accuracy = 86.950%\n",
            "Staring Epoch: 4....\n",
            "Epoch : 4, Mini-Batches Completed: 100, Loss: 0.817, Test Accuracy = 85.080%\n",
            "Epoch : 4, Mini-Batches Completed: 200, Loss: 0.835, Test Accuracy = 85.790%\n",
            "Epoch : 4, Mini-Batches Completed: 300, Loss: 0.808, Test Accuracy = 86.030%\n",
            "Epoch : 4, Mini-Batches Completed: 400, Loss: 0.789, Test Accuracy = 86.570%\n",
            "Epoch : 4, Mini-Batches Completed: 500, Loss: 0.811, Test Accuracy = 86.040%\n",
            "Epoch : 4, Mini-Batches Completed: 600, Loss: 0.825, Test Accuracy = 86.790%\n",
            "Epoch : 4, Mini-Batches Completed: 700, Loss: 0.810, Test Accuracy = 85.640%\n",
            "Epoch : 4, Mini-Batches Completed: 800, Loss: 0.873, Test Accuracy = 86.740%\n",
            "Epoch : 4, Mini-Batches Completed: 900, Loss: 0.778, Test Accuracy = 85.840%\n",
            "Epoch : 4, Mini-Batches Completed: 1000, Loss: 0.857, Test Accuracy = 86.200%\n",
            "Epoch : 4, Mini-Batches Completed: 1100, Loss: 0.798, Test Accuracy = 86.750%\n",
            "Epoch : 4, Mini-Batches Completed: 1200, Loss: 0.844, Test Accuracy = 86.270%\n",
            "Epoch : 4, Mini-Batches Completed: 1300, Loss: 0.852, Test Accuracy = 87.100%\n",
            "Epoch : 4, Mini-Batches Completed: 1400, Loss: 0.844, Test Accuracy = 86.780%\n",
            "Epoch : 4, Mini-Batches Completed: 1500, Loss: 0.778, Test Accuracy = 87.600%\n",
            "Epoch : 4, Mini-Batches Completed: 1600, Loss: 0.783, Test Accuracy = 86.720%\n",
            "Epoch : 4, Mini-Batches Completed: 1700, Loss: 0.810, Test Accuracy = 86.010%\n",
            "Epoch : 4, Mini-Batches Completed: 1800, Loss: 0.837, Test Accuracy = 86.580%\n",
            "Staring Epoch: 5....\n",
            "Epoch : 5, Mini-Batches Completed: 100, Loss: 0.797, Test Accuracy = 87.360%\n",
            "Epoch : 5, Mini-Batches Completed: 200, Loss: 0.805, Test Accuracy = 87.080%\n",
            "Epoch : 5, Mini-Batches Completed: 300, Loss: 0.827, Test Accuracy = 86.190%\n",
            "Epoch : 5, Mini-Batches Completed: 400, Loss: 0.809, Test Accuracy = 87.430%\n",
            "Epoch : 5, Mini-Batches Completed: 500, Loss: 0.821, Test Accuracy = 87.700%\n",
            "Epoch : 5, Mini-Batches Completed: 600, Loss: 0.778, Test Accuracy = 87.480%\n",
            "Epoch : 5, Mini-Batches Completed: 700, Loss: 0.786, Test Accuracy = 86.830%\n",
            "Epoch : 5, Mini-Batches Completed: 800, Loss: 0.794, Test Accuracy = 86.920%\n",
            "Epoch : 5, Mini-Batches Completed: 900, Loss: 0.736, Test Accuracy = 86.360%\n",
            "Epoch : 5, Mini-Batches Completed: 1000, Loss: 0.745, Test Accuracy = 86.900%\n",
            "Epoch : 5, Mini-Batches Completed: 1100, Loss: 0.734, Test Accuracy = 86.960%\n",
            "Epoch : 5, Mini-Batches Completed: 1200, Loss: 0.800, Test Accuracy = 87.370%\n",
            "Epoch : 5, Mini-Batches Completed: 1300, Loss: 0.784, Test Accuracy = 87.480%\n",
            "Epoch : 5, Mini-Batches Completed: 1400, Loss: 0.759, Test Accuracy = 86.660%\n",
            "Epoch : 5, Mini-Batches Completed: 1500, Loss: 0.775, Test Accuracy = 87.010%\n",
            "Epoch : 5, Mini-Batches Completed: 1600, Loss: 0.815, Test Accuracy = 87.260%\n",
            "Epoch : 5, Mini-Batches Completed: 1700, Loss: 0.760, Test Accuracy = 87.370%\n",
            "Epoch : 5, Mini-Batches Completed: 1800, Loss: 0.771, Test Accuracy = 88.320%\n",
            "Staring Epoch: 6....\n",
            "Epoch : 6, Mini-Batches Completed: 100, Loss: 0.805, Test Accuracy = 88.150%\n",
            "Epoch : 6, Mini-Batches Completed: 200, Loss: 0.745, Test Accuracy = 87.870%\n",
            "Epoch : 6, Mini-Batches Completed: 300, Loss: 0.765, Test Accuracy = 87.940%\n",
            "Epoch : 6, Mini-Batches Completed: 400, Loss: 0.780, Test Accuracy = 86.650%\n",
            "Epoch : 6, Mini-Batches Completed: 500, Loss: 0.768, Test Accuracy = 85.080%\n",
            "Epoch : 6, Mini-Batches Completed: 600, Loss: 0.772, Test Accuracy = 87.670%\n",
            "Epoch : 6, Mini-Batches Completed: 700, Loss: 0.734, Test Accuracy = 88.010%\n",
            "Epoch : 6, Mini-Batches Completed: 800, Loss: 0.738, Test Accuracy = 87.570%\n",
            "Epoch : 6, Mini-Batches Completed: 900, Loss: 0.744, Test Accuracy = 87.510%\n",
            "Epoch : 6, Mini-Batches Completed: 1000, Loss: 0.754, Test Accuracy = 88.170%\n",
            "Epoch : 6, Mini-Batches Completed: 1100, Loss: 0.761, Test Accuracy = 87.780%\n",
            "Epoch : 6, Mini-Batches Completed: 1200, Loss: 0.716, Test Accuracy = 87.400%\n",
            "Epoch : 6, Mini-Batches Completed: 1300, Loss: 0.743, Test Accuracy = 87.650%\n",
            "Epoch : 6, Mini-Batches Completed: 1400, Loss: 0.719, Test Accuracy = 87.690%\n",
            "Epoch : 6, Mini-Batches Completed: 1500, Loss: 0.717, Test Accuracy = 87.930%\n",
            "Epoch : 6, Mini-Batches Completed: 1600, Loss: 0.744, Test Accuracy = 87.820%\n",
            "Epoch : 6, Mini-Batches Completed: 1700, Loss: 0.713, Test Accuracy = 88.090%\n",
            "Epoch : 6, Mini-Batches Completed: 1800, Loss: 0.756, Test Accuracy = 87.360%\n",
            "Staring Epoch: 7....\n",
            "Epoch : 7, Mini-Batches Completed: 100, Loss: 0.679, Test Accuracy = 86.630%\n",
            "Epoch : 7, Mini-Batches Completed: 200, Loss: 0.694, Test Accuracy = 88.070%\n",
            "Epoch : 7, Mini-Batches Completed: 300, Loss: 0.694, Test Accuracy = 88.130%\n",
            "Epoch : 7, Mini-Batches Completed: 400, Loss: 0.736, Test Accuracy = 87.170%\n",
            "Epoch : 7, Mini-Batches Completed: 500, Loss: 0.739, Test Accuracy = 88.390%\n",
            "Epoch : 7, Mini-Batches Completed: 600, Loss: 0.749, Test Accuracy = 88.380%\n",
            "Epoch : 7, Mini-Batches Completed: 700, Loss: 0.703, Test Accuracy = 88.290%\n",
            "Epoch : 7, Mini-Batches Completed: 800, Loss: 0.788, Test Accuracy = 88.790%\n",
            "Epoch : 7, Mini-Batches Completed: 900, Loss: 0.707, Test Accuracy = 88.190%\n",
            "Epoch : 7, Mini-Batches Completed: 1000, Loss: 0.679, Test Accuracy = 87.910%\n",
            "Epoch : 7, Mini-Batches Completed: 1100, Loss: 0.675, Test Accuracy = 88.350%\n",
            "Epoch : 7, Mini-Batches Completed: 1200, Loss: 0.733, Test Accuracy = 88.090%\n",
            "Epoch : 7, Mini-Batches Completed: 1300, Loss: 0.706, Test Accuracy = 88.170%\n",
            "Epoch : 7, Mini-Batches Completed: 1400, Loss: 0.750, Test Accuracy = 87.660%\n",
            "Epoch : 7, Mini-Batches Completed: 1500, Loss: 0.684, Test Accuracy = 87.950%\n",
            "Epoch : 7, Mini-Batches Completed: 1600, Loss: 0.726, Test Accuracy = 87.940%\n",
            "Epoch : 7, Mini-Batches Completed: 1700, Loss: 0.746, Test Accuracy = 87.610%\n",
            "Epoch : 7, Mini-Batches Completed: 1800, Loss: 0.787, Test Accuracy = 88.410%\n",
            "Staring Epoch: 8....\n",
            "Epoch : 8, Mini-Batches Completed: 100, Loss: 0.656, Test Accuracy = 88.100%\n",
            "Epoch : 8, Mini-Batches Completed: 200, Loss: 0.796, Test Accuracy = 88.780%\n",
            "Epoch : 8, Mini-Batches Completed: 300, Loss: 0.703, Test Accuracy = 88.620%\n",
            "Epoch : 8, Mini-Batches Completed: 400, Loss: 0.694, Test Accuracy = 87.030%\n",
            "Epoch : 8, Mini-Batches Completed: 500, Loss: 0.677, Test Accuracy = 88.840%\n",
            "Epoch : 8, Mini-Batches Completed: 600, Loss: 0.739, Test Accuracy = 87.900%\n",
            "Epoch : 8, Mini-Batches Completed: 700, Loss: 0.743, Test Accuracy = 87.240%\n",
            "Epoch : 8, Mini-Batches Completed: 800, Loss: 0.698, Test Accuracy = 87.950%\n",
            "Epoch : 8, Mini-Batches Completed: 900, Loss: 0.741, Test Accuracy = 88.060%\n",
            "Epoch : 8, Mini-Batches Completed: 1000, Loss: 0.682, Test Accuracy = 88.390%\n",
            "Epoch : 8, Mini-Batches Completed: 1100, Loss: 0.711, Test Accuracy = 88.290%\n",
            "Epoch : 8, Mini-Batches Completed: 1200, Loss: 0.680, Test Accuracy = 88.660%\n",
            "Epoch : 8, Mini-Batches Completed: 1300, Loss: 0.700, Test Accuracy = 88.360%\n",
            "Epoch : 8, Mini-Batches Completed: 1400, Loss: 0.651, Test Accuracy = 88.510%\n",
            "Epoch : 8, Mini-Batches Completed: 1500, Loss: 0.714, Test Accuracy = 88.600%\n",
            "Epoch : 8, Mini-Batches Completed: 1600, Loss: 0.674, Test Accuracy = 88.750%\n",
            "Epoch : 8, Mini-Batches Completed: 1700, Loss: 0.692, Test Accuracy = 88.670%\n",
            "Epoch : 8, Mini-Batches Completed: 1800, Loss: 0.708, Test Accuracy = 86.590%\n",
            "Staring Epoch: 9....\n",
            "Epoch : 9, Mini-Batches Completed: 100, Loss: 0.670, Test Accuracy = 88.620%\n",
            "Epoch : 9, Mini-Batches Completed: 200, Loss: 0.677, Test Accuracy = 88.200%\n",
            "Epoch : 9, Mini-Batches Completed: 300, Loss: 0.655, Test Accuracy = 88.750%\n",
            "Epoch : 9, Mini-Batches Completed: 400, Loss: 0.674, Test Accuracy = 88.590%\n",
            "Epoch : 9, Mini-Batches Completed: 500, Loss: 0.723, Test Accuracy = 87.750%\n",
            "Epoch : 9, Mini-Batches Completed: 600, Loss: 0.671, Test Accuracy = 88.110%\n",
            "Epoch : 9, Mini-Batches Completed: 700, Loss: 0.738, Test Accuracy = 88.700%\n",
            "Epoch : 9, Mini-Batches Completed: 800, Loss: 0.677, Test Accuracy = 88.280%\n",
            "Epoch : 9, Mini-Batches Completed: 900, Loss: 0.668, Test Accuracy = 88.790%\n",
            "Epoch : 9, Mini-Batches Completed: 1000, Loss: 0.729, Test Accuracy = 89.330%\n",
            "Epoch : 9, Mini-Batches Completed: 1100, Loss: 0.694, Test Accuracy = 88.820%\n",
            "Epoch : 9, Mini-Batches Completed: 1200, Loss: 0.719, Test Accuracy = 89.000%\n",
            "Epoch : 9, Mini-Batches Completed: 1300, Loss: 0.692, Test Accuracy = 88.160%\n",
            "Epoch : 9, Mini-Batches Completed: 1400, Loss: 0.684, Test Accuracy = 89.360%\n",
            "Epoch : 9, Mini-Batches Completed: 1500, Loss: 0.669, Test Accuracy = 89.060%\n",
            "Epoch : 9, Mini-Batches Completed: 1600, Loss: 0.651, Test Accuracy = 88.360%\n",
            "Epoch : 9, Mini-Batches Completed: 1700, Loss: 0.675, Test Accuracy = 89.320%\n",
            "Epoch : 9, Mini-Batches Completed: 1800, Loss: 0.647, Test Accuracy = 88.290%\n",
            "Staring Epoch: 10....\n",
            "Epoch : 10, Mini-Batches Completed: 100, Loss: 0.638, Test Accuracy = 89.040%\n",
            "Epoch : 10, Mini-Batches Completed: 200, Loss: 0.671, Test Accuracy = 88.300%\n",
            "Epoch : 10, Mini-Batches Completed: 300, Loss: 0.648, Test Accuracy = 88.700%\n",
            "Epoch : 10, Mini-Batches Completed: 400, Loss: 0.703, Test Accuracy = 88.730%\n",
            "Epoch : 10, Mini-Batches Completed: 500, Loss: 0.662, Test Accuracy = 88.780%\n",
            "Epoch : 10, Mini-Batches Completed: 600, Loss: 0.728, Test Accuracy = 88.910%\n",
            "Epoch : 10, Mini-Batches Completed: 700, Loss: 0.677, Test Accuracy = 88.410%\n",
            "Epoch : 10, Mini-Batches Completed: 800, Loss: 0.647, Test Accuracy = 88.970%\n",
            "Epoch : 10, Mini-Batches Completed: 900, Loss: 0.691, Test Accuracy = 89.130%\n",
            "Epoch : 10, Mini-Batches Completed: 1000, Loss: 0.650, Test Accuracy = 88.650%\n",
            "Epoch : 10, Mini-Batches Completed: 1100, Loss: 0.678, Test Accuracy = 88.890%\n",
            "Epoch : 10, Mini-Batches Completed: 1200, Loss: 0.714, Test Accuracy = 88.690%\n",
            "Epoch : 10, Mini-Batches Completed: 1300, Loss: 0.633, Test Accuracy = 88.830%\n",
            "Epoch : 10, Mini-Batches Completed: 1400, Loss: 0.672, Test Accuracy = 89.410%\n",
            "Epoch : 10, Mini-Batches Completed: 1500, Loss: 0.635, Test Accuracy = 88.770%\n",
            "Epoch : 10, Mini-Batches Completed: 1600, Loss: 0.708, Test Accuracy = 88.710%\n",
            "Epoch : 10, Mini-Batches Completed: 1700, Loss: 0.621, Test Accuracy = 88.940%\n",
            "Epoch : 10, Mini-Batches Completed: 1800, Loss: 0.657, Test Accuracy = 88.830%\n",
            "Staring Epoch: 11....\n",
            "Epoch : 11, Mini-Batches Completed: 100, Loss: 0.661, Test Accuracy = 89.290%\n",
            "Epoch : 11, Mini-Batches Completed: 200, Loss: 0.625, Test Accuracy = 88.860%\n",
            "Epoch : 11, Mini-Batches Completed: 300, Loss: 0.670, Test Accuracy = 88.890%\n",
            "Epoch : 11, Mini-Batches Completed: 400, Loss: 0.623, Test Accuracy = 88.570%\n",
            "Epoch : 11, Mini-Batches Completed: 500, Loss: 0.653, Test Accuracy = 89.060%\n",
            "Epoch : 11, Mini-Batches Completed: 600, Loss: 0.643, Test Accuracy = 89.430%\n",
            "Epoch : 11, Mini-Batches Completed: 700, Loss: 0.626, Test Accuracy = 88.820%\n",
            "Epoch : 11, Mini-Batches Completed: 800, Loss: 0.598, Test Accuracy = 88.770%\n",
            "Epoch : 11, Mini-Batches Completed: 900, Loss: 0.684, Test Accuracy = 88.720%\n",
            "Epoch : 11, Mini-Batches Completed: 1000, Loss: 0.701, Test Accuracy = 88.910%\n",
            "Epoch : 11, Mini-Batches Completed: 1100, Loss: 0.698, Test Accuracy = 89.040%\n",
            "Epoch : 11, Mini-Batches Completed: 1200, Loss: 0.664, Test Accuracy = 89.060%\n",
            "Epoch : 11, Mini-Batches Completed: 1300, Loss: 0.650, Test Accuracy = 88.590%\n",
            "Epoch : 11, Mini-Batches Completed: 1400, Loss: 0.662, Test Accuracy = 88.920%\n",
            "Epoch : 11, Mini-Batches Completed: 1500, Loss: 0.618, Test Accuracy = 88.830%\n",
            "Epoch : 11, Mini-Batches Completed: 1600, Loss: 0.699, Test Accuracy = 89.340%\n",
            "Epoch : 11, Mini-Batches Completed: 1700, Loss: 0.625, Test Accuracy = 89.100%\n",
            "Epoch : 11, Mini-Batches Completed: 1800, Loss: 0.643, Test Accuracy = 87.850%\n",
            "Staring Epoch: 12....\n",
            "Epoch : 12, Mini-Batches Completed: 100, Loss: 0.648, Test Accuracy = 89.030%\n",
            "Epoch : 12, Mini-Batches Completed: 200, Loss: 0.631, Test Accuracy = 89.230%\n",
            "Epoch : 12, Mini-Batches Completed: 300, Loss: 0.644, Test Accuracy = 88.760%\n",
            "Epoch : 12, Mini-Batches Completed: 400, Loss: 0.623, Test Accuracy = 89.030%\n",
            "Epoch : 12, Mini-Batches Completed: 500, Loss: 0.655, Test Accuracy = 88.940%\n",
            "Epoch : 12, Mini-Batches Completed: 600, Loss: 0.644, Test Accuracy = 88.600%\n",
            "Epoch : 12, Mini-Batches Completed: 700, Loss: 0.659, Test Accuracy = 89.480%\n",
            "Epoch : 12, Mini-Batches Completed: 800, Loss: 0.643, Test Accuracy = 89.090%\n",
            "Epoch : 12, Mini-Batches Completed: 900, Loss: 0.645, Test Accuracy = 88.640%\n",
            "Epoch : 12, Mini-Batches Completed: 1000, Loss: 0.587, Test Accuracy = 89.440%\n",
            "Epoch : 12, Mini-Batches Completed: 1100, Loss: 0.673, Test Accuracy = 89.300%\n",
            "Epoch : 12, Mini-Batches Completed: 1200, Loss: 0.652, Test Accuracy = 88.710%\n",
            "Epoch : 12, Mini-Batches Completed: 1300, Loss: 0.657, Test Accuracy = 89.320%\n",
            "Epoch : 12, Mini-Batches Completed: 1400, Loss: 0.606, Test Accuracy = 88.180%\n",
            "Epoch : 12, Mini-Batches Completed: 1500, Loss: 0.645, Test Accuracy = 88.710%\n",
            "Epoch : 12, Mini-Batches Completed: 1600, Loss: 0.683, Test Accuracy = 88.170%\n",
            "Epoch : 12, Mini-Batches Completed: 1700, Loss: 0.612, Test Accuracy = 89.310%\n",
            "Epoch : 12, Mini-Batches Completed: 1800, Loss: 0.657, Test Accuracy = 89.080%\n",
            "Staring Epoch: 13....\n",
            "Epoch : 13, Mini-Batches Completed: 100, Loss: 0.644, Test Accuracy = 88.940%\n",
            "Epoch : 13, Mini-Batches Completed: 200, Loss: 0.645, Test Accuracy = 89.110%\n",
            "Epoch : 13, Mini-Batches Completed: 300, Loss: 0.611, Test Accuracy = 89.060%\n",
            "Epoch : 13, Mini-Batches Completed: 400, Loss: 0.604, Test Accuracy = 89.130%\n",
            "Epoch : 13, Mini-Batches Completed: 500, Loss: 0.627, Test Accuracy = 89.580%\n",
            "Epoch : 13, Mini-Batches Completed: 600, Loss: 0.641, Test Accuracy = 89.370%\n",
            "Epoch : 13, Mini-Batches Completed: 700, Loss: 0.615, Test Accuracy = 89.060%\n",
            "Epoch : 13, Mini-Batches Completed: 800, Loss: 0.628, Test Accuracy = 89.330%\n",
            "Epoch : 13, Mini-Batches Completed: 900, Loss: 0.606, Test Accuracy = 89.770%\n",
            "Epoch : 13, Mini-Batches Completed: 1000, Loss: 0.637, Test Accuracy = 89.460%\n",
            "Epoch : 13, Mini-Batches Completed: 1100, Loss: 0.667, Test Accuracy = 88.300%\n",
            "Epoch : 13, Mini-Batches Completed: 1200, Loss: 0.653, Test Accuracy = 89.110%\n",
            "Epoch : 13, Mini-Batches Completed: 1300, Loss: 0.684, Test Accuracy = 89.750%\n",
            "Epoch : 13, Mini-Batches Completed: 1400, Loss: 0.647, Test Accuracy = 88.890%\n",
            "Epoch : 13, Mini-Batches Completed: 1500, Loss: 0.608, Test Accuracy = 89.300%\n",
            "Epoch : 13, Mini-Batches Completed: 1600, Loss: 0.650, Test Accuracy = 89.620%\n",
            "Epoch : 13, Mini-Batches Completed: 1700, Loss: 0.632, Test Accuracy = 90.150%\n",
            "Epoch : 13, Mini-Batches Completed: 1800, Loss: 0.646, Test Accuracy = 89.570%\n",
            "Staring Epoch: 14....\n",
            "Epoch : 14, Mini-Batches Completed: 100, Loss: 0.604, Test Accuracy = 89.500%\n",
            "Epoch : 14, Mini-Batches Completed: 200, Loss: 0.664, Test Accuracy = 89.470%\n",
            "Epoch : 14, Mini-Batches Completed: 300, Loss: 0.660, Test Accuracy = 88.930%\n",
            "Epoch : 14, Mini-Batches Completed: 400, Loss: 0.652, Test Accuracy = 89.250%\n",
            "Epoch : 14, Mini-Batches Completed: 500, Loss: 0.628, Test Accuracy = 89.120%\n",
            "Epoch : 14, Mini-Batches Completed: 600, Loss: 0.642, Test Accuracy = 89.420%\n",
            "Epoch : 14, Mini-Batches Completed: 700, Loss: 0.610, Test Accuracy = 89.460%\n",
            "Epoch : 14, Mini-Batches Completed: 800, Loss: 0.621, Test Accuracy = 89.580%\n",
            "Epoch : 14, Mini-Batches Completed: 900, Loss: 0.607, Test Accuracy = 89.730%\n",
            "Epoch : 14, Mini-Batches Completed: 1000, Loss: 0.584, Test Accuracy = 89.620%\n",
            "Epoch : 14, Mini-Batches Completed: 1100, Loss: 0.628, Test Accuracy = 88.830%\n",
            "Epoch : 14, Mini-Batches Completed: 1200, Loss: 0.621, Test Accuracy = 89.660%\n",
            "Epoch : 14, Mini-Batches Completed: 1300, Loss: 0.607, Test Accuracy = 89.200%\n",
            "Epoch : 14, Mini-Batches Completed: 1400, Loss: 0.596, Test Accuracy = 88.600%\n",
            "Epoch : 14, Mini-Batches Completed: 1500, Loss: 0.656, Test Accuracy = 89.430%\n",
            "Epoch : 14, Mini-Batches Completed: 1600, Loss: 0.674, Test Accuracy = 89.510%\n",
            "Epoch : 14, Mini-Batches Completed: 1700, Loss: 0.602, Test Accuracy = 89.660%\n",
            "Epoch : 14, Mini-Batches Completed: 1800, Loss: 0.662, Test Accuracy = 89.780%\n",
            "Staring Epoch: 15....\n",
            "Epoch : 15, Mini-Batches Completed: 100, Loss: 0.597, Test Accuracy = 89.480%\n",
            "Epoch : 15, Mini-Batches Completed: 200, Loss: 0.623, Test Accuracy = 89.730%\n",
            "Epoch : 15, Mini-Batches Completed: 300, Loss: 0.617, Test Accuracy = 89.370%\n",
            "Epoch : 15, Mini-Batches Completed: 400, Loss: 0.583, Test Accuracy = 89.410%\n",
            "Epoch : 15, Mini-Batches Completed: 500, Loss: 0.591, Test Accuracy = 89.210%\n",
            "Epoch : 15, Mini-Batches Completed: 600, Loss: 0.642, Test Accuracy = 89.650%\n",
            "Epoch : 15, Mini-Batches Completed: 700, Loss: 0.637, Test Accuracy = 90.060%\n",
            "Epoch : 15, Mini-Batches Completed: 800, Loss: 0.640, Test Accuracy = 90.010%\n",
            "Epoch : 15, Mini-Batches Completed: 900, Loss: 0.584, Test Accuracy = 89.720%\n",
            "Epoch : 15, Mini-Batches Completed: 1000, Loss: 0.622, Test Accuracy = 89.330%\n",
            "Epoch : 15, Mini-Batches Completed: 1100, Loss: 0.632, Test Accuracy = 89.400%\n",
            "Epoch : 15, Mini-Batches Completed: 1200, Loss: 0.639, Test Accuracy = 89.610%\n",
            "Epoch : 15, Mini-Batches Completed: 1300, Loss: 0.580, Test Accuracy = 89.710%\n",
            "Epoch : 15, Mini-Batches Completed: 1400, Loss: 0.608, Test Accuracy = 89.830%\n",
            "Epoch : 15, Mini-Batches Completed: 1500, Loss: 0.595, Test Accuracy = 90.170%\n",
            "Epoch : 15, Mini-Batches Completed: 1600, Loss: 0.618, Test Accuracy = 89.850%\n",
            "Epoch : 15, Mini-Batches Completed: 1700, Loss: 0.594, Test Accuracy = 89.690%\n",
            "Epoch : 15, Mini-Batches Completed: 1800, Loss: 0.614, Test Accuracy = 89.550%\n",
            "Finished Training\n"
          ]
        }
      ]
    },
    {
      "cell_type": "code",
      "source": [
        "correct = 0\n",
        "total = 0\n",
        "\n",
        "with torch.no_grad():\n",
        "  for data in testloader:\n",
        "    images, labels = data\n",
        "\n",
        "    images = images.to(device)\n",
        "    labels = labels.to(device)\n",
        "\n",
        "    outputs = net(images)\n",
        "    _, predicted = torch.max(outputs.data, 1)\n",
        "    total += labels.size(0)\n",
        "    correct += (predicted==labels).sum().item()\n",
        "\n",
        "accuracy = 100 * correct / total\n",
        "print(f'Accuracy of the model on 10,000 images is: {accuracy:.4}%')"
      ],
      "metadata": {
        "colab": {
          "base_uri": "https://localhost:8080/",
          "height": 235
        },
        "id": "y3CxQE42yHXY",
        "outputId": "e493616c-20f9-4478-a2fc-b971d38fc945"
      },
      "execution_count": null,
      "outputs": [
        {
          "output_type": "error",
          "ename": "NameError",
          "evalue": "ignored",
          "traceback": [
            "\u001b[0;31m---------------------------------------------------------------------------\u001b[0m",
            "\u001b[0;31mNameError\u001b[0m                                 Traceback (most recent call last)",
            "\u001b[0;32m<ipython-input-1-896d5e590452>\u001b[0m in \u001b[0;36m<cell line: 4>\u001b[0;34m()\u001b[0m\n\u001b[1;32m      2\u001b[0m \u001b[0mtotal\u001b[0m \u001b[0;34m=\u001b[0m \u001b[0;36m0\u001b[0m\u001b[0;34m\u001b[0m\u001b[0;34m\u001b[0m\u001b[0m\n\u001b[1;32m      3\u001b[0m \u001b[0;34m\u001b[0m\u001b[0m\n\u001b[0;32m----> 4\u001b[0;31m \u001b[0;32mwith\u001b[0m \u001b[0mtorch\u001b[0m\u001b[0;34m.\u001b[0m\u001b[0mno_grad\u001b[0m\u001b[0;34m(\u001b[0m\u001b[0;34m)\u001b[0m\u001b[0;34m:\u001b[0m\u001b[0;34m\u001b[0m\u001b[0;34m\u001b[0m\u001b[0m\n\u001b[0m\u001b[1;32m      5\u001b[0m   \u001b[0;32mfor\u001b[0m \u001b[0mdata\u001b[0m \u001b[0;32min\u001b[0m \u001b[0mtestloader\u001b[0m\u001b[0;34m:\u001b[0m\u001b[0;34m\u001b[0m\u001b[0;34m\u001b[0m\u001b[0m\n\u001b[1;32m      6\u001b[0m     \u001b[0mimages\u001b[0m\u001b[0;34m,\u001b[0m \u001b[0mlabels\u001b[0m \u001b[0;34m=\u001b[0m \u001b[0mdata\u001b[0m\u001b[0;34m\u001b[0m\u001b[0;34m\u001b[0m\u001b[0m\n",
            "\u001b[0;31mNameError\u001b[0m: name 'torch' is not defined"
          ]
        }
      ]
    },
    {
      "cell_type": "code",
      "source": [
        "fig, ax1 = plt.subplots()\n",
        "\n",
        "plt.title('Accuracy & Loss vs Epoch Mini-Batches')\n",
        "plt.xticks(rotation=45)\n",
        "\n",
        "ax2 = ax1.twinx()\n",
        "\n",
        "ax1.plot(epoch_log, loss_log, 'g-')\n",
        "ax2.plot(epoch_log, accuracy_log, 'b-')\n",
        "\n",
        "ax1.set_xlabel('Epochs')\n",
        "ax1.set_ylabel('Loss', color='g')\n",
        "ax2.set_ylabel('Test Accuracy', color='b')\n",
        "\n",
        "plt.show()"
      ],
      "metadata": {
        "id": "Wz8B-aVbXN2B"
      },
      "execution_count": null,
      "outputs": []
    }
  ]
}
